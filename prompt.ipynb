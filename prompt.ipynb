{
 "cells": [
  {
   "cell_type": "code",
   "execution_count": 23,
   "metadata": {},
   "outputs": [],
   "source": [
    "import re\n",
    "from utils.PromptOperator import PromptOperator\n",
    "\n",
    "class BartPromptOperator(PromptOperator):\n",
    "    POSITIVE_TEMPLATE = \"{candidate_span}是一个{entity_type}实体\"\n",
    "    NEGATIVE_TEMPLATE = \"{candidate_span}不是一个命名实体\"\n",
    "    LABEL_ENTITY = { \"LOC\": \"地点\", \"ORG\": \"组织\", \"PER\": \"人名\", \"GPE\": \"地缘政治实体\" }\n",
    "    ENTITY_LABEL = { \"地点\": \"LOC\", \"组织\": \"ORG\", \"人名\": \"PER\", \"地缘政治实体\": \"GPE\" }\n",
    "\n",
    "    def __init__(self, reader):\n",
    "        super().__init__(reader)\n",
    "\n",
    "    def __generate_golden_entity(self, sentence, label):\n",
    "        golden_entity = []\n",
    "        new_item, new_tag = None, None\n",
    "        for item, tag in zip(sentence, label):\n",
    "            if re.match(r\"B-\", tag):\n",
    "                golden_entity.append([item, tag[2:]])\n",
    "            elif re.match(r\"I-\", tag):\n",
    "                golden_entity[-1][0] += item\n",
    "        return list(map(lambda lst: (lst[0], lst[1]), golden_entity))\n",
    "\n",
    "    def _format(self, sentence, label):\n",
    "        result = []\n",
    "        golden_entity = self.__generate_golden_entity(sentence, label)\n",
    "\n",
    "        return [\"\".join(sentence)]"
   ]
  },
  {
   "cell_type": "code",
   "execution_count": 24,
   "metadata": {},
   "outputs": [],
   "source": [
    "prompt_op = BartPromptOperator(\"./data/msra.min.dev\")\n",
    "prompt_op.dump(\"./test\")"
   ]
  }
 ],
 "metadata": {
  "kernelspec": {
   "display_name": "Python 3",
   "language": "python",
   "name": "python3"
  },
  "language_info": {
   "codemirror_mode": {
    "name": "ipython",
    "version": 3
   },
   "file_extension": ".py",
   "mimetype": "text/x-python",
   "name": "python",
   "nbconvert_exporter": "python",
   "pygments_lexer": "ipython3",
   "version": "3.8.10"
  },
  "orig_nbformat": 4
 },
 "nbformat": 4,
 "nbformat_minor": 2
}
