{
 "cells": [
  {
   "cell_type": "code",
   "execution_count": 1,
   "metadata": {},
   "outputs": [
    {
     "name": "stdout",
     "output_type": "stream",
     "text": [
      "Model loaded succeed\n"
     ]
    }
   ],
   "source": [
    "import re\n",
    "from random import randint\n",
    "from utils.lib import han\n",
    "from utils.PromptOperator import PromptOperator\n",
    "from utils.segment import cut\n",
    "\n",
    "class BartPromptOperator(PromptOperator):\n",
    "    POSITIVE_TEMPLATE = \"“{candidate_span}”是一个{entity_type}实体\"\n",
    "    NEGATIVE_TEMPLATE = \"“{candidate_span}”不是一个命名实体\"\n",
    "    LABEL_ENTITY = { \"LOC\": \"地点\", \"ORG\": \"组织\", \"PER\": \"人名\", \"GPE\": \"地缘政治实体\" }\n",
    "\n",
    "    COUNTER_MAX = 100\n",
    "    NEGATIVE_LOWER_BOND = 2\n",
    "\n",
    "    def __init__(self, reader, ratio=1.5):\n",
    "        super().__init__(reader)\n",
    "        self.ratio = ratio\n",
    "\n",
    "    def __generate_golden_entity(self, sentence, label):\n",
    "        golden_entity = []\n",
    "        new_item, new_tag = None, None\n",
    "        for item, tag in zip(sentence, label):\n",
    "            if re.match(r\"B-\", tag):\n",
    "                golden_entity.append([item, tag[2:]])\n",
    "            elif re.match(r\"I-\", tag):\n",
    "                golden_entity[-1][0] += item\n",
    "        return list(map(lambda lst: (lst[0], lst[1]), golden_entity))\n",
    "\n",
    "    def __clear_invalid_words(self, words, entities):\n",
    "        # clear punctuations\n",
    "        right = len(words) - 1\n",
    "        for index, item in enumerate(reversed(words)):\n",
    "            if item in han.punctuation:\n",
    "                words.pop(right - index)\n",
    "\n",
    "        # clear positive entities\n",
    "        for item in entities:\n",
    "            if item in words:\n",
    "                words.pop(words.index(item))\n",
    "\n",
    "    def __generate_negative_entity(self, sentence, label, golden_entity):\n",
    "        sentence_str = \"\".join(sentence)\n",
    "        words = cut(sentence_str)\n",
    "        segments = re.findall(han.segments, sentence_str)\n",
    "\n",
    "        entities = list(map(lambda item: item[0], golden_entity))\n",
    "        self.__clear_invalid_words(words, entities)\n",
    "\n",
    "        negative_count = max(self.NEGATIVE_LOWER_BOND, round(len(entities) * self.ratio))\n",
    "        while negative_count < len(words):\n",
    "            words.pop(randint(0, len(words) - 1))\n",
    "\n",
    "        counter = 0\n",
    "        while negative_count > len(words):\n",
    "            rand_segment = segments[randint(0, len(segments) - 1)]\n",
    "            rand_range_left = randint(0, len(rand_segment) - 1)\n",
    "            rand_range_right = randint(rand_range_left + 1, len(rand_segment))\n",
    "            rand_span = rand_segment[rand_range_left:rand_range_right]\n",
    "            if not rand_span in words:\n",
    "                words.append(rand_span)\n",
    "\n",
    "            if counter < self.COUNTER_MAX:\n",
    "                counter += 1\n",
    "            else:\n",
    "                break\n",
    "\n",
    "        return words\n",
    "\n",
    "    def _format(self, sentence, label):\n",
    "        result = []\n",
    "        sentence_str = \"\".join(sentence)\n",
    "        golden_entity = self.__generate_golden_entity(sentence, label)\n",
    "        negative_entity = self.__generate_negative_entity(sentence, label, golden_entity)\n",
    "\n",
    "        for item, tag in golden_entity:\n",
    "            result.append(\n",
    "                sentence_str + \n",
    "                self.POSITIVE_TEMPLATE.format(\n",
    "                    candidate_span=item,\n",
    "                    entity_type=self.LABEL_ENTITY[tag]\n",
    "                )\n",
    "            )\n",
    "\n",
    "        for item in negative_entity:\n",
    "            result.append(sentence_str + self.NEGATIVE_TEMPLATE.format(candidate_span=item))\n",
    "\n",
    "        return result"
   ]
  },
  {
   "cell_type": "code",
   "execution_count": 2,
   "metadata": {},
   "outputs": [],
   "source": [
    "prompt_op = BartPromptOperator(\"./data/msra.min.dev\")\n",
    "prompt_op.dump(\"./test\")"
   ]
  }
 ],
 "metadata": {
  "kernelspec": {
   "display_name": "Python 3",
   "language": "python",
   "name": "python3"
  },
  "language_info": {
   "codemirror_mode": {
    "name": "ipython",
    "version": 3
   },
   "file_extension": ".py",
   "mimetype": "text/x-python",
   "name": "python",
   "nbconvert_exporter": "python",
   "pygments_lexer": "ipython3",
   "version": "3.8.10"
  },
  "orig_nbformat": 4
 },
 "nbformat": 4,
 "nbformat_minor": 2
}
