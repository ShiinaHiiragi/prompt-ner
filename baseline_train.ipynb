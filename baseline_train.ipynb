{
 "cells": [
  {
   "cell_type": "code",
   "execution_count": 1,
   "metadata": {},
   "outputs": [],
   "source": [
    "import torch\n",
    "from transformers import AutoTokenizer\n",
    "from utils.saver import tokenizer_loader\n",
    "from operators.NERDataset import NERDataset\n",
    "from operators.NERModel import NERModel\n",
    "\n",
    "DATASET_NAME = \"msra.min\"\n",
    "tokenizer = tokenizer_loader(AutoTokenizer, \"bert-base-chinese\")\n",
    "train_dataset = NERDataset(tokenizer=tokenizer, reader=f\"./data/{DATASET_NAME}.train\")\n",
    "dev_dataset = NERDataset(tokenizer=tokenizer, reader=f\"./data/{DATASET_NAME}.dev\")\n",
    "test_dataset = NERDataset(tokenizer=tokenizer, reader=f\"./data/{DATASET_NAME}.test\")"
   ]
  },
  {
   "cell_type": "code",
   "execution_count": 2,
   "metadata": {},
   "outputs": [],
   "source": [
    "model = NERModel(train_dataset.num_labels, bert_model=\"bert-base-chinese\")\n",
    "if torch.cuda.is_available():\n",
    "    model.to(torch.device(\"cuda:0\"))\n",
    "\n",
    "assert train_dataset.id_label == dev_dataset.id_label\n",
    "assert train_dataset.id_label == test_dataset.id_label"
   ]
  },
  {
   "cell_type": "code",
   "execution_count": 3,
   "metadata": {},
   "outputs": [],
   "source": [
    "from utils.tester import baseline_test\n",
    "\n",
    "LEARNING_RATE = 5e-3\n",
    "EPOCH = 1\n",
    "BATCH_SIZE = 4\n",
    "\n",
    "def train_loop(train_dataset, dev_dataset, model):\n",
    "    optimizer = torch.optim.SGD(model.parameters(), lr=LEARNING_RATE)\n",
    "    for _ in range(EPOCH):\n",
    "        train(train_dataset, model, optimizer)\n",
    "        dev_acc = baseline_test(dev_dataset, model)\n",
    "        print(dev_acc)\n",
    "\n",
    "def train(dataset, model, optimizer):\n",
    "    dataloader = torch.utils.data.DataLoader(dataset, batch_size=BATCH_SIZE)\n",
    "    for batch_index, (batch_X, batch_Y) in enumerate(dataloader):\n",
    "        _, __, loss = model(batch_X, batch_Y)\n",
    "        optimizer.zero_grad()\n",
    "        loss.backward()\n",
    "        optimizer.step()"
   ]
  },
  {
   "cell_type": "code",
   "execution_count": 4,
   "metadata": {},
   "outputs": [
    {
     "name": "stdout",
     "output_type": "stream",
     "text": [
      "1.0\n"
     ]
    }
   ],
   "source": [
    "train_loop(train_dataset, dev_dataset, model)\n",
    "model.save_pretrained(\"./pretrained/model/fine-tune/baseline\")"
   ]
  }
 ],
 "metadata": {
  "kernelspec": {
   "display_name": "Python 3",
   "language": "python",
   "name": "python3"
  },
  "language_info": {
   "codemirror_mode": {
    "name": "ipython",
    "version": 3
   },
   "file_extension": ".py",
   "mimetype": "text/x-python",
   "name": "python",
   "nbconvert_exporter": "python",
   "pygments_lexer": "ipython3",
   "version": "3.8.10"
  },
  "orig_nbformat": 4
 },
 "nbformat": 4,
 "nbformat_minor": 2
}
