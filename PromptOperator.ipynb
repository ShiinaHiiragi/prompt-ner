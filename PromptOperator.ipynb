{
 "cells": [
  {
   "cell_type": "code",
   "execution_count": 1,
   "metadata": {},
   "outputs": [],
   "source": [
    "import random\n",
    "from utils.CONLLReader import CONLLReader\n",
    "\n",
    "class PromptOperator:\n",
    "    def __init__(self, reader=None):\n",
    "        assert reader != None\n",
    "        if type(reader) == str:\n",
    "            reader = CONLLReader(reader)\n",
    "\n",
    "        self.reader = reader\n",
    "\n",
    "    def __format(self, sentence, label):\n",
    "        raise NotImplementedError()\n",
    "\n",
    "    def dump(self, filename):\n",
    "        index_list = list(range(self.reader.length))\n",
    "        random.shuffle(index_list)\n",
    "        sentences_labels = list(zip(self.reader.sentences, self.reader.labels))\n",
    "        shuffled = map(\n",
    "            lambda index: sentences_labels[index],\n",
    "            index_list\n",
    "        )\n",
    "\n",
    "        self.__container = []\n",
    "        for sentence, label in shuffled:\n",
    "            self.__container += self.__format(sentence, label)\n",
    "\n",
    "        with open(filename, \"w\") as f:\n",
    "            for line in self.__container:\n",
    "                f.write(line)\n",
    "                f.write(\"\\n\")"
   ]
  }
 ],
 "metadata": {
  "kernelspec": {
   "display_name": "Python 3",
   "language": "python",
   "name": "python3"
  },
  "language_info": {
   "codemirror_mode": {
    "name": "ipython",
    "version": 3
   },
   "file_extension": ".py",
   "mimetype": "text/x-python",
   "name": "python",
   "nbconvert_exporter": "python",
   "pygments_lexer": "ipython3",
   "version": "3.8.10"
  },
  "orig_nbformat": 4
 },
 "nbformat": 4,
 "nbformat_minor": 2
}
