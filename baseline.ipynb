{
 "cells": [
  {
   "cell_type": "code",
   "execution_count": null,
   "metadata": {},
   "outputs": [],
   "source": [
    "import torch\n",
    "from transformers import AutoTokenizer\n",
    "from utils.NERDataset import NERDataset\n",
    "from utils.NERModel import NERModel\n",
    "from utils.saver import tokenizer_loader\n",
    "\n",
    "tokenizer = tokenizer_loader(AutoTokenizer, \"bert-base-chinese\")\n",
    "train_dataset = NERDataset(tokenizer=tokenizer, filename=\"./data/msra.train\")\n",
    "dev_dataset = NERDataset(tokenizer=tokenizer, filename=\"./data/msra.dev\")\n",
    "test_dataset = NERDataset(tokenizer=tokenizer, filename=\"./data/msra.test\")\n",
    "\n",
    "assert train_dataset.id_label == dev_dataset.id_label\n",
    "assert train_dataset.id_label == test_dataset.id_label\n",
    "\n",
    "model = NERModel(train_dataset.num_labels, model_name=\"bert-base-chinese\")"
   ]
  },
  {
   "cell_type": "code",
   "execution_count": null,
   "metadata": {},
   "outputs": [],
   "source": [
    "from utils.metrics import calc_acc\n",
    "\n",
    "def test(dataset, model):\n",
    "    loader = torch.utils.data.DataLoader(dataset, batch_size=dataset.length)\n",
    "    _, (X, Y) = next(enumerate(loader))\n",
    "    predict, ans, loss = model(X, Y)\n",
    "    print(calc_acc(predict, ans))"
   ]
  },
  {
   "cell_type": "code",
   "execution_count": null,
   "metadata": {},
   "outputs": [],
   "source": [
    "import tqdm\n",
    "\n",
    "LEARNING_RATE = 5e-3\n",
    "EPOCH = 1\n",
    "BATCH_SIZE = 4\n",
    "\n",
    "def train(dataset, model):\n",
    "    optimizer = torch.optim.SGD(model.parameters(), lr=LEARNING_RATE)\n",
    "    loader = torch.utils.data.DataLoader(dataset, batch_size=BATCH_SIZE)\n",
    "\n",
    "    for epoch_index in range(EPOCH):\n",
    "        for batch_index, (batch_X, batch_Y) in enumerate(loader):\n",
    "            _, __, loss = model(batch_X, batch_Y)\n",
    "            optimizer.zero_grad()\n",
    "            loss.backward()\n",
    "            optimizer.step()"
   ]
  },
  {
   "cell_type": "code",
   "execution_count": null,
   "metadata": {},
   "outputs": [],
   "source": [
    "test(dataset, model)"
   ]
  },
  {
   "cell_type": "code",
   "execution_count": null,
   "metadata": {},
   "outputs": [],
   "source": [
    "train(dataset, model)"
   ]
  },
  {
   "cell_type": "code",
   "execution_count": null,
   "metadata": {},
   "outputs": [],
   "source": [
    "test(dataset, model)"
   ]
  }
 ],
 "metadata": {
  "kernelspec": {
   "display_name": "Python 3",
   "language": "python",
   "name": "python3"
  },
  "language_info": {
   "codemirror_mode": {
    "name": "ipython",
    "version": 3
   },
   "file_extension": ".py",
   "mimetype": "text/x-python",
   "name": "python",
   "nbconvert_exporter": "python",
   "pygments_lexer": "ipython3",
   "version": "3.8.10"
  },
  "orig_nbformat": 4
 },
 "nbformat": 4,
 "nbformat_minor": 2
}
