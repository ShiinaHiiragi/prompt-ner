{
 "cells": [
  {
   "cell_type": "code",
   "execution_count": 1,
   "metadata": {},
   "outputs": [],
   "source": [
    "import torch\n",
    "from transformers import AutoTokenizer\n",
    "from utils.saver import tokenizer_loader\n",
    "from utils.NERDataset import NERDataset\n",
    "from utils.NERModel import NERModel\n",
    "\n",
    "DATASET_NAME = \"msra.min\"\n",
    "tokenizer = tokenizer_loader(AutoTokenizer, \"bert-base-chinese\")"
   ]
  },
  {
   "cell_type": "code",
   "execution_count": 2,
   "metadata": {},
   "outputs": [],
   "source": [
    "train_dataset = NERDataset(tokenizer=tokenizer, filename=f\"./data/{DATASET_NAME}.train\")\n",
    "dev_dataset = NERDataset(tokenizer=tokenizer, filename=f\"./data/{DATASET_NAME}.dev\")\n",
    "test_dataset = NERDataset(tokenizer=tokenizer, filename=f\"./data/{DATASET_NAME}.test\")\n",
    "\n",
    "model = NERModel(train_dataset.num_labels, model_name=\"bert-base-chinese\")\n",
    "if torch.cuda.is_available():\n",
    "    model.to(torch.device(\"cuda:0\"))\n",
    "\n",
    "assert train_dataset.id_label == dev_dataset.id_label\n",
    "assert train_dataset.id_label == test_dataset.id_label"
   ]
  },
  {
   "cell_type": "code",
   "execution_count": 3,
   "metadata": {},
   "outputs": [],
   "source": [
    "import tqdm\n",
    "from utils.metrics import calc_acc\n",
    "\n",
    "LEARNING_RATE = 5e-3\n",
    "EPOCH = 1\n",
    "BATCH_SIZE = 4\n",
    "\n",
    "def train_loop(train_dataset, dev_dataset, model):\n",
    "    optimizer = torch.optim.SGD(model.parameters(), lr=LEARNING_RATE)\n",
    "    for _ in range(EPOCH):\n",
    "        train(train_dataset, model, optimizer)\n",
    "        dev_acc = test(dev_dataset, model)\n",
    "        print(dev_acc)\n",
    "\n",
    "def train(dataset, model, optimizer):\n",
    "    dataloader = torch.utils.data.DataLoader(dataset, batch_size=BATCH_SIZE)\n",
    "    for batch_index, (batch_X, batch_Y) in enumerate(dataloader):\n",
    "        _, __, loss = model(batch_X, batch_Y)\n",
    "        optimizer.zero_grad()\n",
    "        loss.backward()\n",
    "        optimizer.step()\n",
    "\n",
    "def test(dataset, model):\n",
    "    test_loader = torch.utils.data.DataLoader(dataset, batch_size=dataset.length)\n",
    "    _, (X, Y) = next(enumerate(test_loader))\n",
    "    predict, ans, loss = model(X, Y)\n",
    "    return calc_acc(predict, ans)"
   ]
  },
  {
   "cell_type": "code",
   "execution_count": 4,
   "metadata": {},
   "outputs": [
    {
     "name": "stdout",
     "output_type": "stream",
     "text": [
      "1.0\n"
     ]
    }
   ],
   "source": [
    "train_loop(train_dataset, dev_dataset, model)"
   ]
  },
  {
   "cell_type": "code",
   "execution_count": 5,
   "metadata": {},
   "outputs": [
    {
     "data": {
      "text/plain": [
       "1.0"
      ]
     },
     "execution_count": 5,
     "metadata": {},
     "output_type": "execute_result"
    }
   ],
   "source": [
    "test(test_dataset, model)"
   ]
  }
 ],
 "metadata": {
  "kernelspec": {
   "display_name": "Python 3",
   "language": "python",
   "name": "python3"
  },
  "language_info": {
   "codemirror_mode": {
    "name": "ipython",
    "version": 3
   },
   "file_extension": ".py",
   "mimetype": "text/x-python",
   "name": "python",
   "nbconvert_exporter": "python",
   "pygments_lexer": "ipython3",
   "version": "3.8.10"
  },
  "orig_nbformat": 4
 },
 "nbformat": 4,
 "nbformat_minor": 2
}
