{
 "cells": [
  {
   "cell_type": "code",
   "execution_count": 1,
   "metadata": {},
   "outputs": [
    {
     "name": "stderr",
     "output_type": "stream",
     "text": [
      "Some weights of the model checkpoint at ./pretrained/model/bert-base-uncased were not used when initializing BertForMaskedLM: ['cls.seq_relationship.bias', 'cls.seq_relationship.weight']\n",
      "- This IS expected if you are initializing BertForMaskedLM from the checkpoint of a model trained on another task or with another architecture (e.g. initializing a BertForSequenceClassification model from a BertForPreTraining model).\n",
      "- This IS NOT expected if you are initializing BertForMaskedLM from the checkpoint of a model that you expect to be exactly identical (initializing a BertForSequenceClassification model from a BertForSequenceClassification model).\n"
     ]
    }
   ],
   "source": [
    "import torch\n",
    "from transformers import BertTokenizer, BertForMaskedLM\n",
    "from utils.saver import tokenizer_loader, model_loader\n",
    "\n",
    "tokenizer = tokenizer_loader(BertTokenizer, \"bert-base-uncased\")\n",
    "model = model_loader(BertForMaskedLM, \"bert-base-uncased\")"
   ]
  },
  {
   "cell_type": "code",
   "execution_count": 2,
   "metadata": {},
   "outputs": [],
   "source": [
    "text = \"From my grandfather Verus I learned good [MASK] and the government of my temper.\"\n",
    "inputs = tokenizer(text, return_tensors=\"pt\")"
   ]
  },
  {
   "cell_type": "code",
   "execution_count": 3,
   "metadata": {},
   "outputs": [
    {
     "data": {
      "text/plain": [
       "dict_keys(['input_ids', 'token_type_ids', 'attention_mask'])"
      ]
     },
     "execution_count": 3,
     "metadata": {},
     "output_type": "execute_result"
    }
   ],
   "source": [
    "labels = inputs[\"input_ids\"].detach().clone()\n",
    "inputs.keys()"
   ]
  },
  {
   "cell_type": "code",
   "execution_count": 4,
   "metadata": {},
   "outputs": [
    {
     "data": {
      "text/plain": [
       "{'loss': tensor(3.0915, grad_fn=<NllLossBackward0>),\n",
       " 'logits': tensor([[[ -6.8196,  -6.7707,  -6.7742,  ...,  -6.2211,  -6.1294,  -4.1441],\n",
       "          [-13.5715, -13.7878, -13.9938,  ..., -13.6721, -11.5414, -12.2750],\n",
       "          [-12.8434, -12.7642, -13.2742,  ..., -12.8124, -11.7653,  -9.1862],\n",
       "          ...,\n",
       "          [ -4.5822,  -4.7067,  -4.6522,  ...,  -4.2833,  -4.7206,  -3.0055],\n",
       "          [-16.5236, -16.1851, -16.6775,  ..., -13.8191, -13.9565,  -7.7735],\n",
       "          [-16.1719, -16.1467, -16.5807,  ..., -14.2531, -13.7659,  -7.7348]]],\n",
       "        grad_fn=<ViewBackward0>),\n",
       " 'hidden_states': None,\n",
       " 'attentions': None}"
      ]
     },
     "execution_count": 4,
     "metadata": {},
     "output_type": "execute_result"
    }
   ],
   "source": [
    "output = model(**inputs, labels=labels)\n",
    "output.__dict__"
   ]
  }
 ],
 "metadata": {
  "kernelspec": {
   "display_name": "Python 3",
   "language": "python",
   "name": "python3"
  },
  "language_info": {
   "codemirror_mode": {
    "name": "ipython",
    "version": 3
   },
   "file_extension": ".py",
   "mimetype": "text/x-python",
   "name": "python",
   "nbconvert_exporter": "python",
   "pygments_lexer": "ipython3",
   "version": "3.8.10"
  },
  "orig_nbformat": 4
 },
 "nbformat": 4,
 "nbformat_minor": 2
}
