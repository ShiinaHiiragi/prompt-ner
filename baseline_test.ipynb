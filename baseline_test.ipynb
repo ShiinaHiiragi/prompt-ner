{
 "cells": [
  {
   "cell_type": "code",
   "execution_count": 1,
   "metadata": {},
   "outputs": [],
   "source": [
    "from transformers import AutoTokenizer\n",
    "from utils.saver import tokenizer_loader\n",
    "\n",
    "tokenizer = tokenizer_loader(AutoTokenizer, \"bert-base-chinese\")"
   ]
  },
  {
   "cell_type": "code",
   "execution_count": 2,
   "metadata": {},
   "outputs": [
    {
     "data": {
      "text/plain": [
       "1.0"
      ]
     },
     "execution_count": 2,
     "metadata": {},
     "output_type": "execute_result"
    }
   ],
   "source": [
    "from operators.NERDataset import NERDataset\n",
    "from operators.NERModel import NERModel\n",
    "from utils.tester import baseline_test\n",
    "\n",
    "DATASET_NAME = \"msra.min\"\n",
    "test_dataset = NERDataset(tokenizer=tokenizer, reader=f\"./data/{DATASET_NAME}.test\")\n",
    "model = NERModel(test_dataset.num_labels, bert_model=\"fine-tune/baseline\")\n",
    "baseline_test(test_dataset, model)"
   ]
  }
 ],
 "metadata": {
  "kernelspec": {
   "display_name": "Python 3",
   "language": "python",
   "name": "python3"
  },
  "language_info": {
   "codemirror_mode": {
    "name": "ipython",
    "version": 3
   },
   "file_extension": ".py",
   "mimetype": "text/x-python",
   "name": "python",
   "nbconvert_exporter": "python",
   "pygments_lexer": "ipython3",
   "version": "3.8.10"
  },
  "orig_nbformat": 4
 },
 "nbformat": 4,
 "nbformat_minor": 2
}
