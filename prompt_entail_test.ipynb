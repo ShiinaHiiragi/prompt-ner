{
 "cells": [
  {
   "cell_type": "code",
   "execution_count": 1,
   "metadata": {},
   "outputs": [],
   "source": [
    "from transformers import AutoTokenizer, BertForMaskedLM\n",
    "from utils.saver import tokenizer_loader, model_loader\n",
    "from operators.CONLLReader import CONLLReader\n",
    "\n",
    "DATASET_NAME = \"msra.min\"\n",
    "tokenizer = tokenizer_loader(AutoTokenizer, \"bert-base-chinese\")\n",
    "model = model_loader(BertForMaskedLM, \"bert-base-chinese\")\n",
    "test_reader = CONLLReader(filename=f\"./data/{DATASET_NAME}.test\")"
   ]
  },
  {
   "cell_type": "code",
   "execution_count": 2,
   "metadata": {},
   "outputs": [
    {
     "name": "stdout",
     "output_type": "stream",
     "text": [
      "Model loaded succeed\n"
     ]
    }
   ],
   "source": [
    "import torch\n",
    "from utils.han import punctuation\n",
    "from utils.segment import cut\n",
    "from utils.constants import LABEL_ENTITY, MASK_TOKEN\n",
    "from utils.tester import find_token\n",
    "from PromptWeaver import EntailPromptOperator\n",
    "\n",
    "def calc_predict_score():\n",
    "    pass\n",
    "\n",
    "def predict_word_cut(sentence_str, word, flag_token):\n",
    "    global tokenizer, model\n",
    "    label_entity_keys = list(LABEL_ENTITY.keys())\n",
    "\n",
    "    test_positive = list(map(\n",
    "        lambda key: sentence_str + EntailPromptOperator.TRUE_TEMPLATE[\"test_positive\"].format(\n",
    "            candidate_span=word,\n",
    "            entity_type=LABEL_ENTITY[key]\n",
    "        ),\n",
    "        label_entity_keys\n",
    "    ))\n",
    "    test_negative = sentence_str + EntailPromptOperator.TRUE_TEMPLATE[\"test_negative\"].format(word_span=word)\n",
    "\n",
    "    positive_inputs = tokenizer(\n",
    "        test_positive,\n",
    "        padding=True,\n",
    "        truncation=True,\n",
    "        return_tensors=\"pt\"\n",
    "    )\n",
    "    negative_input = tokenizer(test_negative, return_tensors=\"pt\")\n",
    "    positive_mask_index = (positive_inputs[\"input_ids\"] == MASK_TOKEN).nonzero()\n",
    "    negative_mask_index = (negative_input[\"input_ids\"] == MASK_TOKEN).nonzero()\n",
    "\n",
    "    result = []\n",
    "    with torch.no_grad():\n",
    "        positive_outputs = model(**positive_inputs)[0]\n",
    "        negative_output = model(**negative_input)[0]\n",
    "        positive_token = flag_token[EntailPromptOperator.POSITIVE_FLAG]\n",
    "\n",
    "        for batch, index in enumerate(positive_mask_index):\n",
    "            result.append((\n",
    "                label_entity_keys[batch],\n",
    "                float(positive_outputs[index[0]][index[1]][positive_token])\n",
    "            ))\n",
    "\n",
    "        result.append((\n",
    "            \"O\",\n",
    "            float(negative_output[negative_mask_index[0, 0]][negative_mask_index[0, 1]][positive_token])\n",
    "        ))\n",
    "\n",
    "    return max(result, key=lambda item: item[1])\n",
    "\n",
    "def entail_test(reader):\n",
    "    global tokenizer\n",
    "    flag_token, token_flag = find_token(tokenizer)\n",
    "\n",
    "    predicts = []\n",
    "    for sentence in reader.sentences:\n",
    "        sentence_str = \"\".join(sentence)\n",
    "        words = cut(sentence_str)\n",
    "        predict = []\n",
    "        for word in words:\n",
    "            word_result = predict_word_cut(sentence_str, word, flag_token)[0]\n",
    "            for idx, ch in enumerate(word):\n",
    "                if word_result != \"O\":\n",
    "                    predict.append(f\"I-{word_result}\" if idx else f\"B-{word_result}\")\n",
    "                else:\n",
    "                    predict.append(word_result)\n",
    "        predicts.append(predict)\n",
    "\n",
    "    return predicts\n",
    "\n",
    "predict = entail_test(test_reader)"
   ]
  },
  {
   "cell_type": "code",
   "execution_count": 3,
   "metadata": {},
   "outputs": [
    {
     "data": {
      "text/plain": [
       "0.28205128205128205"
      ]
     },
     "execution_count": 3,
     "metadata": {},
     "output_type": "execute_result"
    }
   ],
   "source": [
    "from utils.metrics import bart_calc_acc\n",
    "\n",
    "bart_calc_acc(predict, test_reader.labels)"
   ]
  }
 ],
 "metadata": {
  "kernelspec": {
   "display_name": "Python 3",
   "language": "python",
   "name": "python3"
  },
  "language_info": {
   "codemirror_mode": {
    "name": "ipython",
    "version": 3
   },
   "file_extension": ".py",
   "mimetype": "text/x-python",
   "name": "python",
   "nbconvert_exporter": "python",
   "pygments_lexer": "ipython3",
   "version": "3.8.10"
  },
  "orig_nbformat": 4
 },
 "nbformat": 4,
 "nbformat_minor": 2
}
