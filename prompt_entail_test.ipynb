{
 "cells": [
  {
   "cell_type": "code",
   "execution_count": 1,
   "metadata": {},
   "outputs": [],
   "source": [
    "from transformers import AutoTokenizer, BertForMaskedLM\n",
    "from utils.saver import tokenizer_loader, model_loader\n",
    "from operators.CONLLReader import CONLLReader\n",
    "\n",
    "DATASET_NAME = \"msra.min\"\n",
    "tokenizer = tokenizer_loader(AutoTokenizer, \"bert-base-chinese\")\n",
    "model = model_loader(BertForMaskedLM, \"bert-base-chinese\")\n",
    "test_reader = CONLLReader(filename=f\"./data/{DATASET_NAME}.test\")"
   ]
  },
  {
   "cell_type": "code",
   "execution_count": 2,
   "metadata": {},
   "outputs": [
    {
     "name": "stdout",
     "output_type": "stream",
     "text": [
      "Model loaded succeed\n"
     ]
    },
    {
     "data": {
      "text/plain": [
       "0.28205128205128205"
      ]
     },
     "execution_count": 2,
     "metadata": {},
     "output_type": "execute_result"
    }
   ],
   "source": [
    "from utils.tester import entail_test\n",
    "from utils.metrics import bart_calc_acc\n",
    "\n",
    "predict = entail_test(model, tokenizer, test_reader)\n",
    "bart_calc_acc(predict, test_reader.labels)"
   ]
  }
 ],
 "metadata": {
  "kernelspec": {
   "display_name": "Python 3",
   "language": "python",
   "name": "python3"
  },
  "language_info": {
   "codemirror_mode": {
    "name": "ipython",
    "version": 3
   },
   "file_extension": ".py",
   "mimetype": "text/x-python",
   "name": "python",
   "nbconvert_exporter": "python",
   "pygments_lexer": "ipython3",
   "version": "3.8.10"
  },
  "orig_nbformat": 4
 },
 "nbformat": 4,
 "nbformat_minor": 2
}
