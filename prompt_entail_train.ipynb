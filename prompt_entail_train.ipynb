{
 "cells": [
  {
   "cell_type": "code",
   "execution_count": 1,
   "metadata": {},
   "outputs": [],
   "source": [
    "import torch\n",
    "from transformers import AutoTokenizer, BertForMaskedLM\n",
    "from utils.saver import tokenizer_loader, model_loader\n",
    "\n",
    "tokenizer = tokenizer_loader(AutoTokenizer, \"bert-base-chinese\")\n",
    "model = model_loader(BertForMaskedLM, \"bert-base-chinese\")"
   ]
  },
  {
   "cell_type": "code",
   "execution_count": 2,
   "metadata": {},
   "outputs": [
    {
     "data": {
      "text/plain": [
       "['对', '错']"
      ]
     },
     "execution_count": 2,
     "metadata": {},
     "output_type": "execute_result"
    }
   ],
   "source": [
    "from operators.PTEDataset import PTEDataset\n",
    "\n",
    "DATASET_NAME = \"msra.entail.min\"\n",
    "train_dataset = PTEDataset(tokenizer=tokenizer, reader=f\"./prompts/{DATASET_NAME}.train.tsv\")\n",
    "dev_dataset = PTEDataset(tokenizer=tokenizer, reader=f\"./prompts/{DATASET_NAME}.dev.tsv\")\n",
    "train_dataset.flag"
   ]
  },
  {
   "cell_type": "code",
   "execution_count": 3,
   "metadata": {},
   "outputs": [
    {
     "name": "stdout",
     "output_type": "stream",
     "text": [
      "Model loaded succeed\n"
     ]
    }
   ],
   "source": [
    "from utils.constants import MASK_TOKEN\n",
    "from utils.tester import find_token\n",
    "from PromptWeaver import EntailPromptOperator\n",
    "\n",
    "LEARNING_RATE = 5e-3\n",
    "EPOCH = 1\n",
    "BATCH_SIZE = 4\n",
    "\n",
    "def train_loop(train_dataset, dev_dataset, model, tokenizer):\n",
    "    optimizer = torch.optim.SGD(model.parameters(), lr=LEARNING_RATE)\n",
    "    for _ in range(EPOCH):\n",
    "        train(train_dataset, model, optimizer)\n",
    "        dev_acc = validate(dev_dataset, model, tokenizer)\n",
    "        print(dev_acc)\n",
    "\n",
    "def train(dataset, model, optimizer):\n",
    "    dataloader = torch.utils.data.DataLoader(dataset, batch_size=BATCH_SIZE)\n",
    "    for batch_index, (batch_X, batch_Y) in enumerate(dataloader):\n",
    "        loss = model(**batch_X, labels=batch_Y).loss\n",
    "        optimizer.zero_grad()\n",
    "        loss.backward()\n",
    "        optimizer.step()\n",
    "\n",
    "def validate(dataset, model, tokenizer):\n",
    "    dataloader = torch.utils.data.DataLoader(dataset, batch_size=len(dataset))\n",
    "    _, (X, Y) = next(enumerate(dataloader))\n",
    "\n",
    "    positive_token = tokenizer.convert_tokens_to_ids(EntailPromptOperator.POSITIVE_FLAG)\n",
    "    negative_token = tokenizer.convert_tokens_to_ids(EntailPromptOperator.NEGATIVE_FLAG)\n",
    "    mask_index = (X[\"input_ids\"] == MASK_TOKEN).nonzero()\n",
    "\n",
    "    correct, total = 0, 0\n",
    "    with torch.no_grad():\n",
    "        outputs = model(**X)[0]\n",
    "        for index in mask_index:\n",
    "            prob_vector = outputs[index[0], index[1]]\n",
    "            ans = Y[index[0], index[1]]\n",
    "            positive, negative = prob_vector[positive_token], prob_vector[negative_token]\n",
    "            if (positive > negative and ans == positive_token) or \\\n",
    "                (positive < negative and ans == negative_token):\n",
    "                correct += 1\n",
    "            total += 1\n",
    "\n",
    "    return correct / total"
   ]
  },
  {
   "cell_type": "code",
   "execution_count": 4,
   "metadata": {},
   "outputs": [
    {
     "name": "stdout",
     "output_type": "stream",
     "text": [
      "0.47368421052631576\n"
     ]
    }
   ],
   "source": [
    "train_loop(train_dataset, dev_dataset, model, tokenizer)\n",
    "model.save_pretrained(\"./pretrained/model/fine-tune/prompt-entail\")"
   ]
  }
 ],
 "metadata": {
  "kernelspec": {
   "display_name": "Python 3",
   "language": "python",
   "name": "python3"
  },
  "language_info": {
   "codemirror_mode": {
    "name": "ipython",
    "version": 3
   },
   "file_extension": ".py",
   "mimetype": "text/x-python",
   "name": "python",
   "nbconvert_exporter": "python",
   "pygments_lexer": "ipython3",
   "version": "3.8.10"
  },
  "orig_nbformat": 4
 },
 "nbformat": 4,
 "nbformat_minor": 2
}
