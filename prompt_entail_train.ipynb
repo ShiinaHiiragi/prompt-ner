{
 "cells": [
  {
   "cell_type": "code",
   "execution_count": 1,
   "metadata": {},
   "outputs": [],
   "source": [
    "import torch\n",
    "from transformers import AutoTokenizer, BertForMaskedLM\n",
    "from utils.saver import tokenizer_loader, model_loader\n",
    "\n",
    "tokenizer = tokenizer_loader(AutoTokenizer, \"bert-base-chinese\")\n",
    "model = model_loader(BertForMaskedLM, \"bert-base-chinese\")"
   ]
  },
  {
   "cell_type": "code",
   "execution_count": 2,
   "metadata": {},
   "outputs": [
    {
     "data": {
      "text/plain": [
       "['对', '错']"
      ]
     },
     "execution_count": 2,
     "metadata": {},
     "output_type": "execute_result"
    }
   ],
   "source": [
    "from operators.PTEDataset import PTEDataset\n",
    "\n",
    "DATASET_NAME = \"msra.entail.min\"\n",
    "train_dataset = PTEDataset(tokenizer=tokenizer, reader=f\"./prompts/{DATASET_NAME}.train.tsv\")\n",
    "dev_dataset = PTEDataset(tokenizer=tokenizer, reader=f\"./prompts/{DATASET_NAME}.dev.tsv\")\n",
    "train_dataset.flag"
   ]
  },
  {
   "cell_type": "code",
   "execution_count": 3,
   "metadata": {},
   "outputs": [],
   "source": [
    "LEARNING_RATE = 5e-3\n",
    "EPOCH = 1\n",
    "BATCH_SIZE = 4\n",
    "\n",
    "def train_loop(train_dataset, dev_dataset, model):\n",
    "    optimizer = torch.optim.SGD(model.parameters(), lr=LEARNING_RATE)\n",
    "    for _ in range(EPOCH):\n",
    "        train(train_dataset, model, optimizer)\n",
    "        # TODO: finish test()\n",
    "\n",
    "def train(dataset, model, optimizer):\n",
    "    dataloader = torch.utils.data.DataLoader(dataset, batch_size=BATCH_SIZE)\n",
    "    for batch_index, (batch_X, batch_Y) in enumerate(dataloader):\n",
    "        loss = model(**batch_X, labels=batch_Y).loss\n",
    "        optimizer.zero_grad()\n",
    "        loss.backward()\n",
    "        optimizer.step()"
   ]
  },
  {
   "cell_type": "code",
   "execution_count": 4,
   "metadata": {},
   "outputs": [],
   "source": [
    "train_loop(train_dataset, dev_dataset, model)\n",
    "model.save_pretrained(\"./pretrained/model/fine-tune/prompt-entail\")"
   ]
  }
 ],
 "metadata": {
  "kernelspec": {
   "display_name": "Python 3",
   "language": "python",
   "name": "python3"
  },
  "language_info": {
   "codemirror_mode": {
    "name": "ipython",
    "version": 3
   },
   "file_extension": ".py",
   "mimetype": "text/x-python",
   "name": "python",
   "nbconvert_exporter": "python",
   "pygments_lexer": "ipython3",
   "version": "3.8.10"
  },
  "orig_nbformat": 4
 },
 "nbformat": 4,
 "nbformat_minor": 2
}
