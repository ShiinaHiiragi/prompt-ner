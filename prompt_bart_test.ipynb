{
 "cells": [
  {
   "cell_type": "code",
   "execution_count": 1,
   "metadata": {},
   "outputs": [],
   "source": [
    "from utils.saver import tokenizer_loader, model_loader\n",
    "from transformers import BertTokenizer, BartForConditionalGeneration\n",
    "\n",
    "tokenizer = tokenizer_loader(BertTokenizer, \"fnlp/bart-base-chinese\")\n",
    "model = model_loader(BartForConditionalGeneration, \"fine-tune/prompt-bart\")"
   ]
  },
  {
   "cell_type": "code",
   "execution_count": 3,
   "metadata": {},
   "outputs": [],
   "source": [
    "from operators.CONLLReader import CONLLReader\n",
    "from utils.constants import LABEL_ENTITY\n",
    "\n",
    "DATASET_NAME = \"msra.min\"\n",
    "reader = CONLLReader(f\"./data/{DATASET_NAME}.test\")"
   ]
  }
 ],
 "metadata": {
  "kernelspec": {
   "display_name": "Python 3",
   "language": "python",
   "name": "python3"
  },
  "language_info": {
   "codemirror_mode": {
    "name": "ipython",
    "version": 3
   },
   "file_extension": ".py",
   "mimetype": "text/x-python",
   "name": "python",
   "nbconvert_exporter": "python",
   "pygments_lexer": "ipython3",
   "version": "3.8.10"
  },
  "orig_nbformat": 4
 },
 "nbformat": 4,
 "nbformat_minor": 2
}
