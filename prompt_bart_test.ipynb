{
 "cells": [
  {
   "cell_type": "code",
   "execution_count": 1,
   "metadata": {},
   "outputs": [],
   "source": [
    "from utils.saver import tokenizer_loader, model_loader\n",
    "from utils.constants import DEVICE\n",
    "from operators.CONLLReader import CONLLReader\n",
    "from operators.NERDataset import NERDataset\n",
    "from transformers import BertTokenizer, BartForConditionalGeneration\n",
    "\n",
    "DATASET_NAME = \"msra.min\"\n",
    "dataset = NERDataset(\n",
    "    reader=CONLLReader(f\"./data/{DATASET_NAME}.test\"),\n",
    "    tokenizer=tokenizer_loader(BertTokenizer, \"fnlp/bart-base-chinese\")\n",
    ")\n",
    "model = model_loader(BartForConditionalGeneration, \"fine-tune/prompt-bart\")"
   ]
  },
  {
   "cell_type": "code",
   "execution_count": 2,
   "metadata": {},
   "outputs": [
    {
     "name": "stdout",
     "output_type": "stream",
     "text": [
      "Model loaded succeed\n"
     ]
    }
   ],
   "source": [
    "from utils.metrics import calc_acc\n",
    "from utils.tester import predict_labels\n",
    "\n",
    "model.to(DEVICE)\n",
    "infer_labels = []\n",
    "\n",
    "for sentence in dataset.reader.sentences:\n",
    "    infer_label = predict_labels(model, dataset, \"\".join(sentence))\n",
    "    infer_labels.append(infer_label)"
   ]
  },
  {
   "cell_type": "code",
   "execution_count": 3,
   "metadata": {},
   "outputs": [
    {
     "data": {
      "text/plain": [
       "0.5769230769230769"
      ]
     },
     "execution_count": 3,
     "metadata": {},
     "output_type": "execute_result"
    }
   ],
   "source": [
    "calc_acc(infer_labels, dataset.reader.labels)"
   ]
  }
 ],
 "metadata": {
  "kernelspec": {
   "display_name": "Python 3",
   "language": "python",
   "name": "python3"
  },
  "language_info": {
   "codemirror_mode": {
    "name": "ipython",
    "version": 3
   },
   "file_extension": ".py",
   "mimetype": "text/x-python",
   "name": "python",
   "nbconvert_exporter": "python",
   "pygments_lexer": "ipython3",
   "version": "3.8.10"
  },
  "orig_nbformat": 4
 },
 "nbformat": 4,
 "nbformat_minor": 2
}
